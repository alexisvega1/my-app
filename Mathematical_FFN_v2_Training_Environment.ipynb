{
  "nbformat": 4,
  "nbformat_minor": 0,
  "metadata": {
    "colab": {
      "provenance": [],
      "machine_shape": "hm",
      "gpuType": "A100",
      "authorship_tag": "ABX9TyNqyo/xW3zyx56LIyC+j9I/",
      "include_colab_link": true
    },
    "kernelspec": {
      "name": "python3",
      "display_name": "Python 3"
    },
    "language_info": {
      "name": "python"
    },
    "accelerator": "GPU"
  },
  "cells": [
    {
      "cell_type": "markdown",
      "metadata": {
        "id": "view-in-github",
        "colab_type": "text"
      },
      "source": [
        "<a href=\"https://colab.research.google.com/github/alexisvega1/my-app/blob/main/Mathematical_FFN_v2_Training_Environment.ipynb\" target=\"_parent\"><img src=\"https://colab.research.google.com/assets/colab-badge.svg\" alt=\"Open In Colab\"/></a>"
      ]
    },
    {
      "cell_type": "markdown",
      "source": [],
      "metadata": {
        "id": "0CPm8l1SnzTT"
      }
    },
    {
      "cell_type": "code",
      "source": [
        "gpu_info = !nvidia-smi\n",
        "gpu_info = '\\n'.join(gpu_info)\n",
        "if gpu_info.find('failed') >= 0:\n",
        "  print('Not connected to a GPU')\n",
        "else:\n",
        "  print(gpu_info)"
      ],
      "metadata": {
        "colab": {
          "base_uri": "https://localhost:8080/"
        },
        "id": "paC2PPozn0lR",
        "outputId": "ed71db19-73e5-4a91-b56d-dcf10f2bb0e7"
      },
      "execution_count": 4,
      "outputs": [
        {
          "output_type": "stream",
          "name": "stdout",
          "text": [
            "Fri Jun 20 04:57:17 2025       \n",
            "+-----------------------------------------------------------------------------------------+\n",
            "| NVIDIA-SMI 550.54.15              Driver Version: 550.54.15      CUDA Version: 12.4     |\n",
            "|-----------------------------------------+------------------------+----------------------+\n",
            "| GPU  Name                 Persistence-M | Bus-Id          Disp.A | Volatile Uncorr. ECC |\n",
            "| Fan  Temp   Perf          Pwr:Usage/Cap |           Memory-Usage | GPU-Util  Compute M. |\n",
            "|                                         |                        |               MIG M. |\n",
            "|=========================================+========================+======================|\n",
            "|   0  NVIDIA A100-SXM4-40GB          Off |   00000000:00:04.0 Off |                    0 |\n",
            "| N/A   35C    P0             45W /  400W |       0MiB /  40960MiB |      0%      Default |\n",
            "|                                         |                        |             Disabled |\n",
            "+-----------------------------------------+------------------------+----------------------+\n",
            "                                                                                         \n",
            "+-----------------------------------------------------------------------------------------+\n",
            "| Processes:                                                                              |\n",
            "|  GPU   GI   CI        PID   Type   Process name                              GPU Memory |\n",
            "|        ID   ID                                                               Usage      |\n",
            "|=========================================================================================|\n",
            "|  No running processes found                                                             |\n",
            "+-----------------------------------------------------------------------------------------+\n"
          ]
        }
      ]
    },
    {
      "cell_type": "code",
      "source": [
        "import psutil\n",
        "\n",
        "ram_gb = psutil.virtual_memory().total / 1e9\n",
        "print('Your runtime has {:.1f} gigabytes of available RAM\\n'.format(ram_gb))\n",
        "\n",
        "if ram_gb < 20:\n",
        "  print('Not using a high-RAM runtime')\n",
        "else:\n",
        "  print('You are using a high-RAM runtime!')"
      ],
      "metadata": {
        "colab": {
          "base_uri": "https://localhost:8080/"
        },
        "id": "k2BCqD7On3nE",
        "outputId": "92ef5e1f-1c7f-402f-99f2-41a594b11809"
      },
      "execution_count": 5,
      "outputs": [
        {
          "output_type": "stream",
          "name": "stdout",
          "text": [
            "Your runtime has 89.6 gigabytes of available RAM\n",
            "\n",
            "You are using a high-RAM runtime!\n"
          ]
        }
      ]
    },
    {
      "cell_type": "code",
      "execution_count": 1,
      "metadata": {
        "colab": {
          "base_uri": "https://localhost:8080/",
          "height": 1000
        },
        "id": "p3bFQzBHmi97",
        "outputId": "59b59bbe-34fb-49a5-f33e-ccf2528ec38e"
      },
      "outputs": [
        {
          "output_type": "stream",
          "name": "stdout",
          "text": [
            "🚀 Setting up Training Environment...\n",
            "✅ GPU available. Setting device to 'cuda'.\n",
            "   - Using device: cuda\n",
            "   - PyTorch version: 2.6.0+cu124\n",
            "📊 Generating 80 random data samples of size (32, 32, 32)...\n",
            "   - Data generation complete.\n",
            "📊 Generating 20 random data samples of size (32, 32, 32)...\n",
            "   - Data generation complete.\n",
            "\n",
            "🚀 Starting Training...\n"
          ]
        },
        {
          "output_type": "stream",
          "name": "stderr",
          "text": []
        },
        {
          "output_type": "stream",
          "name": "stdout",
          "text": [
            "Epoch  1/20 | Train Loss: 0.6938 | Val Loss: 0.6933\n"
          ]
        },
        {
          "output_type": "stream",
          "name": "stderr",
          "text": []
        },
        {
          "output_type": "stream",
          "name": "stdout",
          "text": [
            "Epoch  2/20 | Train Loss: 0.6932 | Val Loss: 0.6932\n"
          ]
        },
        {
          "output_type": "stream",
          "name": "stderr",
          "text": []
        },
        {
          "output_type": "stream",
          "name": "stdout",
          "text": [
            "Epoch  3/20 | Train Loss: 0.6932 | Val Loss: 0.6932\n"
          ]
        },
        {
          "output_type": "stream",
          "name": "stderr",
          "text": []
        },
        {
          "output_type": "stream",
          "name": "stdout",
          "text": [
            "Epoch  4/20 | Train Loss: 0.6932 | Val Loss: 0.6932\n"
          ]
        },
        {
          "output_type": "stream",
          "name": "stderr",
          "text": []
        },
        {
          "output_type": "stream",
          "name": "stdout",
          "text": [
            "Epoch  5/20 | Train Loss: 0.6932 | Val Loss: 0.6932\n"
          ]
        },
        {
          "output_type": "stream",
          "name": "stderr",
          "text": []
        },
        {
          "output_type": "stream",
          "name": "stdout",
          "text": [
            "Epoch  6/20 | Train Loss: 0.6932 | Val Loss: 0.6932\n"
          ]
        },
        {
          "output_type": "stream",
          "name": "stderr",
          "text": []
        },
        {
          "output_type": "stream",
          "name": "stdout",
          "text": [
            "Epoch  7/20 | Train Loss: 0.6932 | Val Loss: 0.6932\n"
          ]
        },
        {
          "output_type": "stream",
          "name": "stderr",
          "text": []
        },
        {
          "output_type": "stream",
          "name": "stdout",
          "text": [
            "Epoch  8/20 | Train Loss: 0.6931 | Val Loss: 0.6932\n"
          ]
        },
        {
          "output_type": "stream",
          "name": "stderr",
          "text": []
        },
        {
          "output_type": "stream",
          "name": "stdout",
          "text": [
            "Epoch  9/20 | Train Loss: 0.6931 | Val Loss: 0.6932\n"
          ]
        },
        {
          "output_type": "stream",
          "name": "stderr",
          "text": []
        },
        {
          "output_type": "stream",
          "name": "stdout",
          "text": [
            "Epoch 10/20 | Train Loss: 0.6931 | Val Loss: 0.6932\n"
          ]
        },
        {
          "output_type": "stream",
          "name": "stderr",
          "text": []
        },
        {
          "output_type": "stream",
          "name": "stdout",
          "text": [
            "Epoch 11/20 | Train Loss: 0.6931 | Val Loss: 0.6932\n"
          ]
        },
        {
          "output_type": "stream",
          "name": "stderr",
          "text": []
        },
        {
          "output_type": "stream",
          "name": "stdout",
          "text": [
            "Epoch 12/20 | Train Loss: 0.6931 | Val Loss: 0.6932\n"
          ]
        },
        {
          "output_type": "stream",
          "name": "stderr",
          "text": []
        },
        {
          "output_type": "stream",
          "name": "stdout",
          "text": [
            "Epoch 13/20 | Train Loss: 0.6931 | Val Loss: 0.6932\n"
          ]
        },
        {
          "output_type": "stream",
          "name": "stderr",
          "text": []
        },
        {
          "output_type": "stream",
          "name": "stdout",
          "text": [
            "Epoch 14/20 | Train Loss: 0.6931 | Val Loss: 0.6932\n"
          ]
        },
        {
          "output_type": "stream",
          "name": "stderr",
          "text": []
        },
        {
          "output_type": "stream",
          "name": "stdout",
          "text": [
            "Epoch 15/20 | Train Loss: 0.6931 | Val Loss: 0.6932\n"
          ]
        },
        {
          "output_type": "stream",
          "name": "stderr",
          "text": []
        },
        {
          "output_type": "stream",
          "name": "stdout",
          "text": [
            "Epoch 16/20 | Train Loss: 0.6931 | Val Loss: 0.6932\n"
          ]
        },
        {
          "output_type": "stream",
          "name": "stderr",
          "text": []
        },
        {
          "output_type": "stream",
          "name": "stdout",
          "text": [
            "Epoch 17/20 | Train Loss: 0.6931 | Val Loss: 0.6932\n"
          ]
        },
        {
          "output_type": "stream",
          "name": "stderr",
          "text": []
        },
        {
          "output_type": "stream",
          "name": "stdout",
          "text": [
            "Epoch 18/20 | Train Loss: 0.6931 | Val Loss: 0.6932\n"
          ]
        },
        {
          "output_type": "stream",
          "name": "stderr",
          "text": []
        },
        {
          "output_type": "stream",
          "name": "stdout",
          "text": [
            "Epoch 19/20 | Train Loss: 0.6931 | Val Loss: 0.6932\n"
          ]
        },
        {
          "output_type": "stream",
          "name": "stderr",
          "text": []
        },
        {
          "output_type": "stream",
          "name": "stdout",
          "text": [
            "Epoch 20/20 | Train Loss: 0.6931 | Val Loss: 0.6932\n",
            "✅ Training complete.\n"
          ]
        },
        {
          "output_type": "display_data",
          "data": {
            "text/plain": [
              "<Figure size 1000x500 with 1 Axes>"
            ],
            "image/png": "[encoded data removed]"
          },
          "metadata": {}
        },
        {
          "output_type": "stream",
          "name": "stdout",
          "text": [
            "📈 Loss curves saved to 'quick_start_losses.png'\n",
            "💾 Model saved to 'quick_start_model.pt'\n",
            "\n",
            "🎉 Quick Start script finished.\n",
            "   Run the next cell to download your results.\n"
          ]
        }
      ],
      "source": [
        "#!/usr/bin/env python3\n",
        "\"\"\"\n",
        "Quick Start Mathematical FFN-v2 Training for Google Colab\n",
        "\"\"\"\n",
        "\n",
        "# ============================================================================\n",
        "# SETUP AND INSTALLATION\n",
        "# ============================================================================\n",
        "\n",
        "print(\"🚀 Setting up Training Environment...\")\n",
        "!pip install torch torchvision matplotlib numpy scipy tqdm -q\n",
        "\n",
        "# Import Libraries\n",
        "import torch\n",
        "import torch.nn as nn\n",
        "import torch.optim as optim\n",
        "from torch.utils.data import DataLoader, TensorDataset\n",
        "import numpy as np\n",
        "import matplotlib.pyplot as plt\n",
        "import time\n",
        "import math\n",
        "from tqdm import tqdm\n",
        "import warnings\n",
        "warnings.filterwarnings('ignore')\n",
        "\n",
        "# ============================================================================\n",
        "# GPU AND PYTORCH CONFIGURATION\n",
        "# ============================================================================\n",
        "\n",
        "# Check and use GPU if available\n",
        "if torch.cuda.is_available():\n",
        "    print(\"✅ GPU available. Setting device to 'cuda'.\")\n",
        "    device = torch.device('cuda')\n",
        "else:\n",
        "    print(\"⚠️ GPU not available. Using CPU.\")\n",
        "    device = torch.device('cpu')\n",
        "\n",
        "print(f\"   - Using device: {device}\")\n",
        "print(f\"   - PyTorch version: {torch.__version__}\")\n",
        "\n",
        "# ============================================================================\n",
        "# MODEL, OPTIMIZER, LOSS (Simplified for Quick Start)\n",
        "# ============================================================================\n",
        "\n",
        "class QuickFFN(nn.Module):\n",
        "    def __init__(self):\n",
        "        super().__init__()\n",
        "        self.layers = nn.Sequential(\n",
        "            nn.Conv3d(1, 16, 3, padding=1), nn.ReLU(),\n",
        "            nn.Conv3d(16, 32, 3, padding=1), nn.ReLU(),\n",
        "            nn.Conv3d(32, 1, 1), nn.Sigmoid()\n",
        "        )\n",
        "    def forward(self, x):\n",
        "        return self.layers(x)\n",
        "\n",
        "class QuickTrainer:\n",
        "    def __init__(self, model, device):\n",
        "        self.model = model.to(device)\n",
        "        self.device = device\n",
        "        self.optimizer = optim.Adam(model.parameters(), lr=1e-3)\n",
        "        self.loss_fn = nn.BCELoss()\n",
        "        self.train_losses = []\n",
        "        self.val_losses = []\n",
        "\n",
        "    def train(self, train_loader, val_loader, num_epochs=10):\n",
        "        print(\"\\n🚀 Starting Training...\")\n",
        "        for epoch in range(num_epochs):\n",
        "            self.model.train()\n",
        "            epoch_loss = 0\n",
        "            for inputs, targets in tqdm(train_loader, desc=f\"Epoch {epoch+1}/{num_epochs}\", leave=False):\n",
        "                inputs, targets = inputs.to(self.device), targets.to(self.device)\n",
        "                self.optimizer.zero_grad()\n",
        "                outputs = self.model(inputs)\n",
        "                loss = self.loss_fn(outputs, targets)\n",
        "                loss.backward()\n",
        "                self.optimizer.step()\n",
        "                epoch_loss += loss.item()\n",
        "\n",
        "            avg_train_loss = epoch_loss / len(train_loader)\n",
        "            self.train_losses.append(avg_train_loss)\n",
        "\n",
        "            # Validation\n",
        "            self.model.eval()\n",
        "            val_loss = 0\n",
        "            with torch.no_grad():\n",
        "                for inputs, targets in val_loader:\n",
        "                    inputs, targets = inputs.to(self.device), targets.to(self.device)\n",
        "                    outputs = self.model(inputs)\n",
        "                    val_loss += self.loss_fn(outputs, targets).item()\n",
        "\n",
        "            avg_val_loss = val_loss / len(val_loader)\n",
        "            self.val_losses.append(avg_val_loss)\n",
        "\n",
        "            print(f\"Epoch {epoch+1:2d}/{num_epochs} | Train Loss: {avg_train_loss:.4f} | Val Loss: {avg_val_loss:.4f}\")\n",
        "\n",
        "        print(\"✅ Training complete.\")\n",
        "\n",
        "    def plot_losses(self):\n",
        "        plt.figure(figsize=(10, 5))\n",
        "        plt.plot(self.train_losses, label='Training Loss')\n",
        "        plt.plot(self.val_losses, label='Validation Loss')\n",
        "        plt.title(\"Training and Validation Loss\")\n",
        "        plt.xlabel(\"Epoch\")\n",
        "        plt.ylabel(\"Loss\")\n",
        "        plt.legend()\n",
        "        plt.grid(True)\n",
        "        plt.savefig('quick_start_losses.png')\n",
        "        plt.show()\n",
        "        print(\"📈 Loss curves saved to 'quick_start_losses.png'\")\n",
        "\n",
        "# ============================================================================\n",
        "# DATA GENERATION (Simplified)\n",
        "# ============================================================================\n",
        "\n",
        "def generate_quick_data(num_samples, size=(32, 32, 32)):\n",
        "    print(f\"📊 Generating {num_samples} random data samples of size {size}...\")\n",
        "    inputs = torch.rand(num_samples, 1, *size)\n",
        "    targets = torch.randint(0, 2, (num_samples, 1, *size)).float()\n",
        "    print(\"   - Data generation complete.\")\n",
        "    return TensorDataset(inputs, targets)\n",
        "\n",
        "# ============================================================================\n",
        "# MAIN EXECUTION\n",
        "# ============================================================================\n",
        "\n",
        "if __name__ == \"__main__\":\n",
        "    # Configuration\n",
        "    config = {\n",
        "        'batch_size': 8,\n",
        "        'num_epochs': 20,\n",
        "        'train_samples': 80,\n",
        "        'val_samples': 20,\n",
        "        'volume_size': (32, 32, 32)\n",
        "    }\n",
        "\n",
        "    # Data\n",
        "    train_dataset = generate_quick_data(config['train_samples'], config['volume_size'])\n",
        "    val_dataset = generate_quick_data(config['val_samples'], config['volume_size'])\n",
        "    train_loader = DataLoader(train_dataset, batch_size=config['batch_size'], shuffle=True)\n",
        "    val_loader = DataLoader(val_dataset, batch_size=config['batch_size'])\n",
        "\n",
        "    # Model and Trainer\n",
        "    model = QuickFFN()\n",
        "    trainer = QuickTrainer(model, device)\n",
        "\n",
        "    # Run Training\n",
        "    trainer.train(train_loader, val_loader, num_epochs=config['num_epochs'])\n",
        "\n",
        "    # Plot Results\n",
        "    trainer.plot_losses()\n",
        "\n",
        "    # Save Model\n",
        "    torch.save(model.state_dict(), 'quick_start_model.pt')\n",
        "    print(\"💾 Model saved to 'quick_start_model.pt'\")\n",
        "\n",
        "    print(\"\\n🎉 Quick Start script finished.\")\n",
        "    print(\"   Run the next cell to download your results.\")\n",
        "\n",
        "# ============================================================================\n",
        "# DOWNLOAD RESULTS\n",
        "# ============================================================================\n",
        "# from google.colab import files\n",
        "# files.download('quick_start_model.pt')\n",
        "# files.download('quick_start_losses.png')\n",
        "# ============================================================================"
      ]
    },
    {
      "cell_type": "code",
      "source": [
        "#!/usr/bin/env python3\n",
        "\"\"\"\n",
        "Comprehensive Mathematical FFN-v2 Training for Google Colab\n",
        "Incorporating insights from optimization textbooks and matrix analysis\n",
        "\"\"\"\n",
        "\n",
        "# ============================================================================\n",
        "# SETUP AND INSTALLATION\n",
        "# ============================================================================\n",
        "\n",
        "print(\"🚀 Setting up Mathematical FFN-v2 Training Environment...\")\n",
        "\n",
        "# Install required packages\n",
        "!pip install torch torchvision matplotlib numpy scipy tqdm\n",
        "\n",
        "# Import PyTorch\n",
        "import torch\n",
        "\n",
        "# Now check and use GPU if available\n",
        "if torch.cuda.is_available():\n",
        "    print(\"✅ GPU available and enabled\")\n",
        "    device = torch.device('cuda')\n",
        "else:\n",
        "    print(\"⚠️ Using CPU (GPU not available)\")\n",
        "    device = torch.device('cpu')\n",
        "\n",
        "import torch.nn as nn\n",
        "import torch.optim as optim\n",
        "from torch.utils.data import DataLoader, TensorDataset\n",
        "import numpy as np\n",
        "import matplotlib.pyplot as plt\n",
        "import time\n",
        "import math\n",
        "from typing import Tuple, List, Dict\n",
        "from tqdm import tqdm\n",
        "import warnings\n",
        "warnings.filterwarnings('ignore')\n",
        "\n",
        "print(f\"📊 Using device: {device}\")\n",
        "print(f\"🔧 PyTorch version: {torch.__version__}\")\n",
        "\n",
        "# ============================================================================\n",
        "# MATHEMATICAL FFN-v2 ARCHITECTURE\n",
        "# ============================================================================\n",
        "\n",
        "class MathematicalFFNv2(nn.Module):\n",
        "    \"\"\"\n",
        "    Enhanced FFN-v2 with mathematical optimization insights\n",
        "    Based on matrix analysis and optimization theory from textbooks\n",
        "    \"\"\"\n",
        "\n",
        "    def __init__(self, input_channels: int = 1, output_channels: int = 1,\n",
        "                 hidden_channels: int = 64, depth: int = 3):\n",
        "        super().__init__()\n",
        "\n",
        "        self.input_channels = input_channels\n",
        "        self.output_channels = output_channels\n",
        "        self.hidden_channels = hidden_channels\n",
        "        self.depth = depth\n",
        "\n",
        "        # Mathematical weight initialization based on matrix analysis\n",
        "        self._init_weights_mathematically()\n",
        "\n",
        "        # Core FFN-v2 architecture with mathematical enhancements\n",
        "        self.layers = nn.ModuleList()\n",
        "\n",
        "        # Input layer with mathematical normalization\n",
        "        self.layers.append(nn.Sequential(\n",
        "            nn.Conv3d(input_channels, hidden_channels, 1),\n",
        "            nn.BatchNorm3d(hidden_channels),  # Internal covariate shift reduction\n",
        "            nn.ReLU(inplace=True)\n",
        "        ))\n",
        "\n",
        "        # Hidden layers with residual connections and mathematical optimizations\n",
        "        for i in range(depth - 1):\n",
        "            layer = nn.Sequential(\n",
        "                nn.Conv3d(hidden_channels, hidden_channels, 1),\n",
        "                nn.BatchNorm3d(hidden_channels),\n",
        "                nn.ReLU(inplace=True),\n",
        "                nn.Conv3d(hidden_channels, hidden_channels, 1),\n",
        "                nn.BatchNorm3d(hidden_channels)\n",
        "            )\n",
        "            self.layers.append(layer)\n",
        "\n",
        "        # Output layer with mathematical activation\n",
        "        self.output_layer = nn.Sequential(\n",
        "            nn.Conv3d(hidden_channels, output_channels, 1),\n",
        "            nn.Sigmoid()  # Bounded output for segmentation\n",
        "        )\n",
        "\n",
        "        # Mathematical regularization components\n",
        "        self.dropout = nn.Dropout3d(0.1)  # Stochastic regularization\n",
        "\n",
        "    def _init_weights_mathematically(self):\n",
        "        \"\"\"Mathematical weight initialization based on matrix analysis\"\"\"\n",
        "        def init_weights(m):\n",
        "            if isinstance(m, nn.Conv3d):\n",
        "                # Xavier/Glorot initialization for optimal gradient flow\n",
        "                nn.init.xavier_uniform_(m.weight)\n",
        "                if m.bias is not None:\n",
        "                    nn.init.zeros_(m.bias)\n",
        "            elif isinstance(m, nn.BatchNorm3d):\n",
        "                nn.init.ones_(m.weight)\n",
        "                nn.init.zeros_(m.bias)\n",
        "\n",
        "        self.apply(init_weights)\n",
        "\n",
        "    def forward(self, x: torch.Tensor) -> torch.Tensor:\n",
        "        \"\"\"Forward pass with mathematical optimizations\"\"\"\n",
        "\n",
        "        # Input normalization for numerical stability\n",
        "        x = self._normalize_input(x)\n",
        "\n",
        "        # Apply layers with residual connections\n",
        "        for i, layer in enumerate(self.layers[:-1]):\n",
        "            identity = x\n",
        "            x = layer(x)\n",
        "\n",
        "            # Residual connection for gradient flow (mathematical insight)\n",
        "            if x.shape == identity.shape:\n",
        "                x = x + identity\n",
        "\n",
        "            # Stochastic regularization\n",
        "            x = self.dropout(x)\n",
        "\n",
        "        # Final hidden layer\n",
        "        x = self.layers[-1](x)\n",
        "\n",
        "        # Output with mathematical constraints\n",
        "        output = self.output_layer(x)\n",
        "\n",
        "        return output\n",
        "\n",
        "    def _normalize_input(self, x: torch.Tensor) -> torch.Tensor:\n",
        "        \"\"\"Mathematical input normalization\"\"\"\n",
        "        # Ensure input is in valid range [0, 1]\n",
        "        x = torch.clamp(x, 0, 1)\n",
        "        return x\n",
        "\n",
        "# ============================================================================\n",
        "# MATHEMATICAL OPTIMIZER\n",
        "# ============================================================================\n",
        "\n",
        "class MathematicalOptimizer:\n",
        "    \"\"\"\n",
        "    Advanced optimizer incorporating mathematical insights\n",
        "    Based on optimization theory and matrix analysis\n",
        "    \"\"\"\n",
        "\n",
        "    def __init__(self, model: nn.Module, learning_rate: float = 1e-3):\n",
        "        self.model = model\n",
        "\n",
        "        # AdamW optimizer with mathematical weight decay\n",
        "        self.optimizer = optim.AdamW(\n",
        "            model.parameters(),\n",
        "            lr=learning_rate,\n",
        "            weight_decay=1e-4,  # L2 regularization\n",
        "            betas=(0.9, 0.999),  # Momentum parameters\n",
        "            eps=1e-8  # Numerical stability\n",
        "        )\n",
        "\n",
        "        # Cosine annealing scheduler with warm restarts\n",
        "        self.scheduler = optim.lr_scheduler.CosineAnnealingWarmRestarts(\n",
        "            self.optimizer,\n",
        "            T_0=10,  # Initial restart period\n",
        "            T_mult=2,  # Period multiplier\n",
        "            eta_min=1e-6  # Minimum learning rate\n",
        "        )\n",
        "\n",
        "        # Gradient clipping for stability\n",
        "        self.max_grad_norm = 1.0\n",
        "\n",
        "    def step(self, loss: torch.Tensor):\n",
        "        \"\"\"Optimization step with mathematical enhancements\"\"\"\n",
        "        # Backward pass\n",
        "        loss.backward()\n",
        "\n",
        "        # Gradient clipping for numerical stability\n",
        "        torch.nn.utils.clip_grad_norm_(self.model.parameters(), self.max_grad_norm)\n",
        "\n",
        "        # Optimization step\n",
        "        self.optimizer.step()\n",
        "        self.optimizer.zero_grad()\n",
        "\n",
        "        # Learning rate scheduling\n",
        "        self.scheduler.step()\n",
        "\n",
        "        return self.scheduler.get_last_lr()[0]\n",
        "\n",
        "# ============================================================================\n",
        "# MATHEMATICAL LOSS FUNCTION\n",
        "# ============================================================================\n",
        "\n",
        "class MathematicalLossFunction:\n",
        "    \"\"\"\n",
        "    Advanced loss function combining multiple mathematical insights\n",
        "    Based on optimization theory and probability theory\n",
        "    \"\"\"\n",
        "\n",
        "    def __init__(self, alpha: float = 0.5, beta: float = 0.5):\n",
        "        self.alpha = alpha  # BCE weight\n",
        "        self.beta = beta    # Dice weight\n",
        "        self.bce_loss = nn.BCELoss()\n",
        "\n",
        "    def dice_loss(self, pred: torch.Tensor, target: torch.Tensor) -> torch.Tensor:\n",
        "        \"\"\"Dice loss for segmentation optimization\"\"\"\n",
        "        smooth = 1e-6\n",
        "\n",
        "        pred_flat = pred.view(-1)\n",
        "        target_flat = target.view(-1)\n",
        "\n",
        "        intersection = (pred_flat * target_flat).sum()\n",
        "        dice_coeff = (2. * intersection + smooth) / (pred_flat.sum() + target_flat.sum() + smooth)\n",
        "\n",
        "        return 1 - dice_coeff\n",
        "\n",
        "    def focal_loss(self, pred: torch.Tensor, target: torch.Tensor, gamma: float = 2.0) -> torch.Tensor:\n",
        "        \"\"\"Focal loss for handling class imbalance\"\"\"\n",
        "        bce_loss = self.bce_loss(pred, target)\n",
        "        pt = torch.exp(-bce_loss)\n",
        "        focal_loss = (1 - pt) ** gamma * bce_loss\n",
        "        return focal_loss\n",
        "\n",
        "    def __call__(self, pred: torch.Tensor, target: torch.Tensor) -> torch.Tensor:\n",
        "        \"\"\"Combined loss function with mathematical weighting\"\"\"\n",
        "        bce = self.bce_loss(pred, target)\n",
        "        dice = self.dice_loss(pred, target)\n",
        "        focal = self.focal_loss(pred, target)\n",
        "\n",
        "        # Mathematical combination based on optimization theory\n",
        "        combined_loss = self.alpha * bce + self.beta * dice + 0.1 * focal\n",
        "\n",
        "        return combined_loss\n",
        "\n",
        "# ============================================================================\n",
        "# MATHEMATICAL DATA GENERATOR\n",
        "# ============================================================================\n",
        "\n",
        "class MathematicalDataGenerator:\n",
        "    \"\"\"\n",
        "    Advanced data generator with mathematical neuron structures\n",
        "    Based on biological neuron morphology and mathematical modeling\n",
        "    \"\"\"\n",
        "\n",
        "    def __init__(self, volume_size: Tuple[int, int, int] = (64, 64, 64)):\n",
        "        self.volume_size = volume_size\n",
        "        self.dx, self.dy, self.dz = volume_size\n",
        "\n",
        "    def generate_neuron_data(self, num_samples: int) -> Tuple[torch.Tensor, torch.Tensor]:\n",
        "        \"\"\"Generate realistic neuron data with mathematical structures\"\"\"\n",
        "        inputs = []\n",
        "        targets = []\n",
        "\n",
        "        for _ in range(num_samples):\n",
        "            input_vol = self._generate_input_volume()\n",
        "            target_vol = self._generate_target_volume()\n",
        "\n",
        "            inputs.append(input_vol)\n",
        "            targets.append(target_vol)\n",
        "\n",
        "        return torch.stack(inputs), torch.stack(targets)\n",
        "\n",
        "    def _generate_input_volume(self) -> torch.Tensor:\n",
        "        \"\"\"Generate input volume with mathematical neuron structures\"\"\"\n",
        "        volume = torch.zeros(self.volume_size)\n",
        "\n",
        "        # Generate multiple neuron structures\n",
        "        num_neurons = np.random.randint(3, 8)\n",
        "\n",
        "        for _ in range(num_neurons):\n",
        "            # Neuron center\n",
        "            cx = np.random.randint(10, self.dx - 10)\n",
        "            cy = np.random.randint(10, self.dy - 10)\n",
        "            cz = np.random.randint(10, self.dz - 10)\n",
        "\n",
        "            # Neuron parameters\n",
        "            radius = np.random.uniform(2, 6)\n",
        "            intensity = np.random.uniform(0.3, 0.8)\n",
        "\n",
        "            # Generate spherical neuron body\n",
        "            for x in range(max(0, cx - int(radius)), min(self.dx, cx + int(radius) + 1)):\n",
        "                for y in range(max(0, cy - int(radius)), min(self.dy, cy + int(radius) + 1)):\n",
        "                    for z in range(max(0, cz - int(radius)), min(self.dz, cz + int(radius) + 1)):\n",
        "                        dist = math.sqrt((x - cx)**2 + (y - cy)**2 + (z - cz)**2)\n",
        "                        if dist <= radius:\n",
        "                            # Gaussian intensity falloff\n",
        "                            intensity_val = intensity * math.exp(-(dist**2) / (2 * (radius/3)**2))\n",
        "                            volume[x, y, z] = max(volume[x, y, z], intensity_val)\n",
        "\n",
        "            # Generate dendritic branches\n",
        "            num_branches = np.random.randint(2, 6)\n",
        "            for _ in range(num_branches):\n",
        "                self._generate_dendritic_branch(volume, cx, cy, cz, radius)\n",
        "\n",
        "        # Add noise for realism\n",
        "        noise = torch.randn_like(volume) * 0.05\n",
        "        volume = torch.clamp(volume + noise, 0, 1)\n",
        "\n",
        "        return volume.unsqueeze(0)  # Add channel dimension\n",
        "\n",
        "    def _generate_dendritic_branch(self, volume: torch.Tensor, cx: int, cy: int, cz: int, radius: float):\n",
        "        \"\"\"Generate dendritic branch with mathematical morphology\"\"\"\n",
        "        # Branch direction\n",
        "        dx = np.random.uniform(-1, 1)\n",
        "        dy = np.random.uniform(-1, 1)\n",
        "        dz = np.random.uniform(-1, 1)\n",
        "\n",
        "        # Normalize direction\n",
        "        length = math.sqrt(dx**2 + dy**2 + dz**2)\n",
        "        dx, dy, dz = dx/length, dy/length, dz/length\n",
        "\n",
        "        # Branch length\n",
        "        branch_length = np.random.uniform(radius * 2, radius * 6)\n",
        "\n",
        "        # Generate branch points\n",
        "        for t in np.linspace(0, branch_length, int(branch_length * 2)):\n",
        "            x = int(cx + dx * t)\n",
        "            y = int(cy + dy * t)\n",
        "            z = int(cz + dz * t)\n",
        "\n",
        "            if 0 <= x < self.dx and 0 <= y < self.dy and 0 <= z < self.dz:\n",
        "                # Branch radius decreases with distance\n",
        "                branch_radius = radius * (1 - t / branch_length) * 0.3\n",
        "                if branch_radius > 0.5:\n",
        "                    # Add branch point\n",
        "                    for dx2 in range(-int(branch_radius), int(branch_radius) + 1):\n",
        "                        for dy2 in range(-int(branch_radius), int(branch_radius) + 1):\n",
        "                            for dz2 in range(-int(branch_radius), int(branch_radius) + 1):\n",
        "                                if dx2**2 + dy2**2 + dz2**2 <= branch_radius**2:\n",
        "                                    nx, ny, nz = x + dx2, y + dy2, z + dz2\n",
        "                                    if 0 <= nx < self.dx and 0 <= ny < self.dy and 0 <= nz < self.dz:\n",
        "                                        intensity = 0.6 * math.exp(-(dx2**2 + dy2**2 + dz2**2) / (2 * (branch_radius/2)**2))\n",
        "                                        volume[nx, ny, nz] = max(volume[nx, ny, nz], intensity)\n",
        "\n",
        "    def _generate_target_volume(self) -> torch.Tensor:\n",
        "        \"\"\"Generate target segmentation volume\"\"\"\n",
        "        # For now, use a simplified target (can be enhanced with more complex structures)\n",
        "        target = torch.zeros(self.volume_size)\n",
        "\n",
        "        # Add some target structures\n",
        "        for _ in range(np.random.randint(2, 5)):\n",
        "            cx = np.random.randint(10, self.dx - 10)\n",
        "            cy = np.random.randint(10, self.dy - 10)\n",
        "            cz = np.random.randint(10, self.dz - 10)\n",
        "            radius = np.random.uniform(1, 4)\n",
        "\n",
        "            for x in range(max(0, cx - int(radius)), min(self.dx, cx + int(radius) + 1)):\n",
        "                for y in range(max(0, cy - int(radius)), min(self.dy, cy + int(radius) + 1)):\n",
        "                    for z in range(max(0, cz - int(radius)), min(self.dz, cz + int(radius) + 1)):\n",
        "                        dist = math.sqrt((x - cx)**2 + (y - cy)**2 + (z - cz)**2)\n",
        "                        if dist <= radius:\n",
        "                            target[x, y, z] = 1.0\n",
        "\n",
        "        return target.unsqueeze(0)  # Add channel dimension\n",
        "\n",
        "# ============================================================================\n",
        "# MATHEMATICAL TRAINER\n",
        "# ============================================================================\n",
        "\n",
        "class MathematicalTrainer:\n",
        "    \"\"\"\n",
        "    Advanced trainer with mathematical optimization insights\n",
        "    Based on optimization theory and training best practices\n",
        "    \"\"\"\n",
        "\n",
        "    def __init__(self, model: nn.Module, optimizer: MathematicalOptimizer,\n",
        "                 loss_fn: MathematicalLossFunction, device: str = 'cuda'):\n",
        "        self.model = model.to(device)\n",
        "        self.optimizer = optimizer\n",
        "        self.loss_fn = loss_fn\n",
        "        self.device = device\n",
        "\n",
        "        # Training history\n",
        "        self.train_losses = []\n",
        "        self.val_losses = []\n",
        "        self.learning_rates = []\n",
        "\n",
        "        # Early stopping\n",
        "        self.best_val_loss = float('inf')\n",
        "        self.patience = 15\n",
        "        self.patience_counter = 0\n",
        "\n",
        "    def train_epoch(self, dataloader: DataLoader) -> float:\n",
        "        \"\"\"Train for one epoch with mathematical optimizations\"\"\"\n",
        "        self.model.train()\n",
        "        total_loss = 0.0\n",
        "        num_batches = len(dataloader)\n",
        "\n",
        "        progress_bar = tqdm(dataloader, desc=\"Training\", leave=False)\n",
        "\n",
        "        for batch_idx, (inputs, targets) in enumerate(progress_bar):\n",
        "            inputs = inputs.to(self.device)\n",
        "            targets = targets.to(self.device)\n",
        "\n",
        "            # Forward pass\n",
        "            outputs = self.model(inputs)\n",
        "\n",
        "            # Calculate loss\n",
        "            loss = self.loss_fn(outputs, targets)\n",
        "\n",
        "            # Optimization step\n",
        "            lr = self.optimizer.step(loss)\n",
        "\n",
        "            total_loss += loss.item()\n",
        "\n",
        "            # Update progress bar\n",
        "            progress_bar.set_postfix({\n",
        "                'Loss': f'{loss.item():.4f}',\n",
        "                'LR': f'{lr:.2e}'\n",
        "            })\n",
        "\n",
        "        return total_loss / num_batches\n",
        "\n",
        "    def validate(self, dataloader: DataLoader) -> float:\n",
        "        \"\"\"Validate model with mathematical metrics\"\"\"\n",
        "        self.model.eval()\n",
        "        total_loss = 0.0\n",
        "        num_batches = len(dataloader)\n",
        "\n",
        "        with torch.no_grad():\n",
        "            for inputs, targets in dataloader:\n",
        "                inputs = inputs.to(self.device)\n",
        "                targets = targets.to(self.device)\n",
        "\n",
        "                outputs = self.model(inputs)\n",
        "                loss = self.loss_fn(outputs, targets)\n",
        "                total_loss += loss.item()\n",
        "\n",
        "        return total_loss / num_batches\n",
        "\n",
        "    def train(self, train_loader: DataLoader, val_loader: DataLoader,\n",
        "              num_epochs: int = 100) -> Dict[str, List[float]]:\n",
        "        \"\"\"Complete training loop with mathematical optimizations\"\"\"\n",
        "\n",
        "        print(f\"🎯 Starting Mathematical FFN-v2 Training for {num_epochs} epochs...\")\n",
        "        print(f\"📊 Training samples: {len(train_loader.dataset)}\")\n",
        "        print(f\"📊 Validation samples: {len(val_loader.dataset)}\")\n",
        "\n",
        "        start_time = time.time()\n",
        "\n",
        "        for epoch in range(num_epochs):\n",
        "            epoch_start = time.time()\n",
        "\n",
        "            # Training phase\n",
        "            train_loss = self.train_epoch(train_loader)\n",
        "\n",
        "            # Validation phase\n",
        "            val_loss = self.validate(val_loader)\n",
        "\n",
        "            # Record metrics\n",
        "            self.train_losses.append(train_loss)\n",
        "            self.val_losses.append(val_loss)\n",
        "            self.learning_rates.append(self.optimizer.scheduler.get_last_lr()[0])\n",
        "\n",
        "            epoch_time = time.time() - epoch_start\n",
        "\n",
        "            # Print progress\n",
        "            print(f\"Epoch {epoch+1:3d}/{num_epochs} | \"\n",
        "                  f\"Train Loss: {train_loss:.4f} | \"\n",
        "                  f\"Val Loss: {val_loss:.4f} | \"\n",
        "                  f\"LR: {self.learning_rates[-1]:.2e} | \"\n",
        "                  f\"Time: {epoch_time:.1f}s\")\n",
        "\n",
        "            # Early stopping check\n",
        "            if val_loss < self.best_val_loss:\n",
        "                self.best_val_loss = val_loss\n",
        "                self.patience_counter = 0\n",
        "                # Save best model\n",
        "                torch.save(self.model.state_dict(), 'best_mathematical_ffn_v2.pt')\n",
        "                print(f\"💾 New best model saved! Val Loss: {val_loss:.4f}\")\n",
        "            else:\n",
        "                self.patience_counter += 1\n",
        "                if self.patience_counter >= self.patience:\n",
        "                    print(f\"🛑 Early stopping triggered after {epoch+1} epochs\")\n",
        "                    break\n",
        "\n",
        "        total_time = time.time() - start_time\n",
        "        print(f\"✅ Training completed in {total_time:.1f} seconds\")\n",
        "\n",
        "        return {\n",
        "            'train_losses': self.train_losses,\n",
        "            'val_losses': self.val_losses,\n",
        "            'learning_rates': self.learning_rates\n",
        "        }\n",
        "\n",
        "    def plot_training_curves(self, save_path: str = 'mathematical_training_curves.png'):\n",
        "        \"\"\"Plot training curves with mathematical insights\"\"\"\n",
        "        fig, (ax1, ax2) = plt.subplots(1, 2, figsize=(15, 5))\n",
        "\n",
        "        # Loss curves\n",
        "        ax1.plot(self.train_losses, label='Training Loss', color='blue')\n",
        "        ax1.plot(self.val_losses, label='Validation Loss', color='red')\n",
        "        ax1.set_xlabel('Epoch')\n",
        "        ax1.set_ylabel('Loss')\n",
        "        ax1.set_title('Mathematical FFN-v2 Training Loss')\n",
        "        ax1.legend()\n",
        "        ax1.grid(True, alpha=0.3)\n",
        "\n",
        "        # Learning rate curve\n",
        "        ax2.plot(self.learning_rates, label='Learning Rate', color='green')\n",
        "        ax2.set_xlabel('Epoch')\n",
        "        ax2.set_ylabel('Learning Rate')\n",
        "        ax2.set_title('Learning Rate Schedule')\n",
        "        ax2.legend()\n",
        "        ax2.grid(True, alpha=0.3)\n",
        "        ax2.set_yscale('log')\n",
        "\n",
        "        plt.tight_layout()\n",
        "        plt.savefig(save_path, dpi=300, bbox_inches='tight')\n",
        "        plt.show()\n",
        "\n",
        "        print(f\"📈 Training curves saved to {save_path}\")\n",
        "\n",
        "# ============================================================================\n",
        "# MAIN TRAINING EXECUTION\n",
        "# ============================================================================\n",
        "\n",
        "def main():\n",
        "    \"\"\"Main training execution with mathematical optimizations\"\"\"\n",
        "\n",
        "    print(\"🧠 Mathematical FFN-v2 Training for Neuron Tracing\")\n",
        "    print(\"=\" * 60)\n",
        "\n",
        "    # Configuration\n",
        "    config = {\n",
        "        'input_channels': 1,\n",
        "        'output_channels': 1,\n",
        "        'hidden_channels': 64,\n",
        "        'depth': 3,\n",
        "        'learning_rate': 1e-3,\n",
        "        'batch_size': 4,\n",
        "        'num_epochs': 50,\n",
        "        'train_samples': 100,\n",
        "        'val_samples': 20,\n",
        "        'volume_size': (64, 64, 64)\n",
        "    }\n",
        "\n",
        "    print(f\"⚙️ Configuration:\")\n",
        "    for key, value in config.items():\n",
        "        print(f\"   {key}: {value}\")\n",
        "\n",
        "    # Initialize components\n",
        "    print(\"\\n🔧 Initializing components...\")\n",
        "\n",
        "    # Model\n",
        "    model = MathematicalFFNv2(\n",
        "        input_channels=config['input_channels'],\n",
        "        output_channels=config['output_channels'],\n",
        "        hidden_channels=config['hidden_channels'],\n",
        "        depth=config['depth']\n",
        "    )\n",
        "\n",
        "    # Optimizer\n",
        "    optimizer = MathematicalOptimizer(model, learning_rate=config['learning_rate'])\n",
        "\n",
        "    # Loss function\n",
        "    loss_fn = MathematicalLossFunction(alpha=0.5, beta=0.5)\n",
        "\n",
        "    # Trainer\n",
        "    trainer = MathematicalTrainer(model, optimizer, loss_fn, device=str(device))\n",
        "\n",
        "    # Data generation\n",
        "    print(\"📊 Generating training data...\")\n",
        "    data_generator = MathematicalDataGenerator(volume_size=config['volume_size'])\n",
        "\n",
        "    # Generate datasets\n",
        "    train_inputs, train_targets = data_generator.generate_neuron_data(config['train_samples'])\n",
        "    val_inputs, val_targets = data_generator.generate_neuron_data(config['val_samples'])\n",
        "\n",
        "    # Create data loaders\n",
        "    train_dataset = TensorDataset(train_inputs, train_targets)\n",
        "    val_dataset = TensorDataset(val_inputs, val_targets)\n",
        "\n",
        "    train_loader = DataLoader(train_dataset, batch_size=config['batch_size'], shuffle=True)\n",
        "    val_loader = DataLoader(val_dataset, batch_size=config['batch_size'], shuffle=False)\n",
        "\n",
        "    print(f\"✅ Generated {len(train_inputs)} training samples and {len(val_inputs)} validation samples\")\n",
        "\n",
        "    # Training\n",
        "    print(\"\\n🚀 Starting training...\")\n",
        "    history = trainer.train(train_loader, val_loader, num_epochs=config['num_epochs'])\n",
        "\n",
        "    # Plot results\n",
        "    print(\"\\n📈 Plotting training curves...\")\n",
        "    trainer.plot_training_curves()\n",
        "\n",
        "    # Save final model\n",
        "    torch.save(model.state_dict(), 'final_mathematical_ffn_v2.pt')\n",
        "    print(\"💾 Final model saved as 'final_mathematical_ffn_v2.pt'\")\n",
        "\n",
        "    # Test model\n",
        "    print(\"\\n🧪 Testing model...\")\n",
        "    model.eval()\n",
        "    with torch.no_grad():\n",
        "        test_input = train_inputs[0:1].to(device)\n",
        "        test_output = model(test_input)\n",
        "        test_loss = loss_fn(test_output, train_targets[0:1].to(device))\n",
        "        print(f\"Test loss: {test_loss.item():.4f}\")\n",
        "\n",
        "    print(\"\\n🎉 Mathematical FFN-v2 Training Complete!\")\n",
        "    print(\"📁 Files created:\")\n",
        "    print(\"   - best_mathematical_ffn_v2.pt (best model)\")\n",
        "    print(\"   - final_mathematical_ffn_v2.pt (final model)\")\n",
        "    print(\"   - mathematical_training_curves.png (training curves)\")\n",
        "\n",
        "    return model, history\n",
        "\n",
        "# ============================================================================\n",
        "# EXECUTION\n",
        "# ============================================================================\n",
        "\n",
        "if __name__ == \"__main__\":\n",
        "    # Run training\n",
        "    model, history = main()\n",
        "\n",
        "    # Download results (for Colab)\n",
        "    print(\"\\n📥 To download results, run:\")\n",
        "    print(\"from google.colab import files\")\n",
        "    print(\"files.download('best_mathematical_ffn_v2.pt')\")\n",
        "    print(\"files.download('mathematical_training_curves.png')\")"
      ],
      "metadata": {
        "colab": {
          "base_uri": "https://localhost:8080/",
          "height": 1000
        },
        "id": "rz4LIwo0uFfb",
        "outputId": "870deb14-f492-434d-f84b-fca2c166bd7b"
      },
      "execution_count": 2,
      "outputs": [
        {
          "output_type": "stream",
          "name": "stdout",
          "text": [
            "🚀 Setting up Mathematical FFN-v2 Training Environment...\n",
            "Requirement already satisfied: torch in /usr/local/lib/python3.11/dist-packages (2.6.0+cu124)\n",
            "Requirement already satisfied: torchvision in /usr/local/lib/python3.11/dist-packages (0.21.0+cu124)\n",
            "Requirement already satisfied: matplotlib in /usr/local/lib/python3.11/dist-packages (3.10.0)\n",
            "Requirement already satisfied: numpy in /usr/local/lib/python3.11/dist-packages (2.0.2)\n",
            "Requirement already satisfied: scipy in /usr/local/lib/python3.11/dist-packages (1.15.3)\n",
            "Requirement already satisfied: tqdm in /usr/local/lib/python3.11/dist-packages (4.67.1)\n",
            "Requirement already satisfied: filelock in /usr/local/lib/python3.11/dist-packages (from torch) (3.18.0)\n",
            "Requirement already satisfied: typing-extensions>=4.10.0 in /usr/local/lib/python3.11/dist-packages (from torch) (4.14.0)\n",
            "Requirement already satisfied: networkx in /usr/local/lib/python3.11/dist-packages (from torch) (3.5)\n",
            "Requirement already satisfied: jinja2 in /usr/local/lib/python3.11/dist-packages (from torch) (3.1.6)\n",
            "Requirement already satisfied: fsspec in /usr/local/lib/python3.11/dist-packages (from torch) (2025.3.2)\n",
            "Requirement already satisfied: nvidia-cuda-nvrtc-cu12==12.4.127 in /usr/local/lib/python3.11/dist-packages (from torch) (12.4.127)\n",
            "Requirement already satisfied: nvidia-cuda-runtime-cu12==12.4.127 in /usr/local/lib/python3.11/dist-packages (from torch) (12.4.127)\n",
            "Requirement already satisfied: nvidia-cuda-cupti-cu12==12.4.127 in /usr/local/lib/python3.11/dist-packages (from torch) (12.4.127)\n",
            "Requirement already satisfied: nvidia-cudnn-cu12==9.1.0.70 in /usr/local/lib/python3.11/dist-packages (from torch) (9.1.0.70)\n",
            "Requirement already satisfied: nvidia-cublas-cu12==12.4.5.8 in /usr/local/lib/python3.11/dist-packages (from torch) (12.4.5.8)\n",
            "Requirement already satisfied: nvidia-cufft-cu12==11.2.1.3 in /usr/local/lib/python3.11/dist-packages (from torch) (11.2.1.3)\n",
            "Requirement already satisfied: nvidia-curand-cu12==10.3.5.147 in /usr/local/lib/python3.11/dist-packages (from torch) (10.3.5.147)\n",
            "Requirement already satisfied: nvidia-cusolver-cu12==11.6.1.9 in /usr/local/lib/python3.11/dist-packages (from torch) (11.6.1.9)\n",
            "Requirement already satisfied: nvidia-cusparse-cu12==12.3.1.170 in /usr/local/lib/python3.11/dist-packages (from torch) (12.3.1.170)\n",
            "Requirement already satisfied: nvidia-cusparselt-cu12==0.6.2 in /usr/local/lib/python3.11/dist-packages (from torch) (0.6.2)\n",
            "Requirement already satisfied: nvidia-nccl-cu12==2.21.5 in /usr/local/lib/python3.11/dist-packages (from torch) (2.21.5)\n",
            "Requirement already satisfied: nvidia-nvtx-cu12==12.4.127 in /usr/local/lib/python3.11/dist-packages (from torch) (12.4.127)\n",
            "Requirement already satisfied: nvidia-nvjitlink-cu12==12.4.127 in /usr/local/lib/python3.11/dist-packages (from torch) (12.4.127)\n",
            "Requirement already satisfied: triton==3.2.0 in /usr/local/lib/python3.11/dist-packages (from torch) (3.2.0)\n",
            "Requirement already satisfied: sympy==1.13.1 in /usr/local/lib/python3.11/dist-packages (from torch) (1.13.1)\n",
            "Requirement already satisfied: mpmath<1.4,>=1.1.0 in /usr/local/lib/python3.11/dist-packages (from sympy==1.13.1->torch) (1.3.0)\n",
            "Requirement already satisfied: pillow!=8.3.*,>=5.3.0 in /usr/local/lib/python3.11/dist-packages (from torchvision) (11.2.1)\n",
            "Requirement already satisfied: contourpy>=1.0.1 in /usr/local/lib/python3.11/dist-packages (from matplotlib) (1.3.2)\n",
            "Requirement already satisfied: cycler>=0.10 in /usr/local/lib/python3.11/dist-packages (from matplotlib) (0.12.1)\n",
            "Requirement already satisfied: fonttools>=4.22.0 in /usr/local/lib/python3.11/dist-packages (from matplotlib) (4.58.4)\n",
            "Requirement already satisfied: kiwisolver>=1.3.1 in /usr/local/lib/python3.11/dist-packages (from matplotlib) (1.4.8)\n",
            "Requirement already satisfied: packaging>=20.0 in /usr/local/lib/python3.11/dist-packages (from matplotlib) (24.2)\n",
            "Requirement already satisfied: pyparsing>=2.3.1 in /usr/local/lib/python3.11/dist-packages (from matplotlib) (3.2.3)\n",
            "Requirement already satisfied: python-dateutil>=2.7 in /usr/local/lib/python3.11/dist-packages (from matplotlib) (2.9.0.post0)\n",
            "Requirement already satisfied: six>=1.5 in /usr/local/lib/python3.11/dist-packages (from python-dateutil>=2.7->matplotlib) (1.17.0)\n",
            "Requirement already satisfied: MarkupSafe>=2.0 in /usr/local/lib/python3.11/dist-packages (from jinja2->torch) (3.0.2)\n",
            "✅ GPU available and enabled\n",
            "📊 Using device: cuda\n",
            "🔧 PyTorch version: 2.6.0+cu124\n",
            "🧠 Mathematical FFN-v2 Training for Neuron Tracing\n",
            "============================================================\n",
            "⚙️ Configuration:\n",
            "   input_channels: 1\n",
            "   output_channels: 1\n",
            "   hidden_channels: 64\n",
            "   depth: 3\n",
            "   learning_rate: 0.001\n",
            "   batch_size: 4\n",
            "   num_epochs: 50\n",
            "   train_samples: 100\n",
            "   val_samples: 20\n",
            "   volume_size: (64, 64, 64)\n",
            "\n",
            "🔧 Initializing components...\n",
            "📊 Generating training data...\n",
            "✅ Generated 100 training samples and 20 validation samples\n",
            "\n",
            "🚀 Starting training...\n",
            "🎯 Starting Mathematical FFN-v2 Training for 50 epochs...\n",
            "📊 Training samples: 100\n",
            "📊 Validation samples: 20\n"
          ]
        },
        {
          "output_type": "stream",
          "name": "stderr",
          "text": []
        },
        {
          "output_type": "stream",
          "name": "stdout",
          "text": [
            "Epoch   1/50 | Train Loss: 0.8865 | Val Loss: 0.8891 | LR: 1.47e-04 | Time: 1.4s\n",
            "💾 New best model saved! Val Loss: 0.8891\n"
          ]
        },
        {
          "output_type": "stream",
          "name": "stderr",
          "text": []
        },
        {
          "output_type": "stream",
          "name": "stdout",
          "text": [
            "Epoch   2/50 | Train Loss: 0.8605 | Val Loss: 0.8515 | LR: 5.01e-04 | Time: 1.1s\n",
            "💾 New best model saved! Val Loss: 0.8515\n"
          ]
        },
        {
          "output_type": "stream",
          "name": "stderr",
          "text": []
        },
        {
          "output_type": "stream",
          "name": "stdout",
          "text": [
            "Epoch   3/50 | Train Loss: 0.8372 | Val Loss: 0.8221 | LR: 9.90e-04 | Time: 1.1s\n",
            "💾 New best model saved! Val Loss: 0.8221\n"
          ]
        },
        {
          "output_type": "stream",
          "name": "stderr",
          "text": []
        },
        {
          "output_type": "stream",
          "name": "stdout",
          "text": [
            "Epoch   4/50 | Train Loss: 0.7987 | Val Loss: 0.7653 | LR: 6.92e-04 | Time: 1.1s\n",
            "💾 New best model saved! Val Loss: 0.7653\n"
          ]
        },
        {
          "output_type": "stream",
          "name": "stderr",
          "text": []
        },
        {
          "output_type": "stream",
          "name": "stdout",
          "text": [
            "Epoch   5/50 | Train Loss: 0.7501 | Val Loss: 0.7360 | LR: 2.23e-04 | Time: 1.1s\n",
            "💾 New best model saved! Val Loss: 0.7360\n"
          ]
        },
        {
          "output_type": "stream",
          "name": "stderr",
          "text": []
        },
        {
          "output_type": "stream",
          "name": "stdout",
          "text": [
            "Epoch   6/50 | Train Loss: 0.7303 | Val Loss: 0.7271 | LR: 1.00e-03 | Time: 1.1s\n",
            "💾 New best model saved! Val Loss: 0.7271\n"
          ]
        },
        {
          "output_type": "stream",
          "name": "stderr",
          "text": []
        },
        {
          "output_type": "stream",
          "name": "stdout",
          "text": [
            "Epoch   7/50 | Train Loss: 0.6947 | Val Loss: 0.6657 | LR: 9.41e-04 | Time: 1.1s\n",
            "💾 New best model saved! Val Loss: 0.6657\n"
          ]
        },
        {
          "output_type": "stream",
          "name": "stderr",
          "text": []
        },
        {
          "output_type": "stream",
          "name": "stdout",
          "text": [
            "Epoch   8/50 | Train Loss: 0.6341 | Val Loss: 0.6115 | LR: 7.78e-04 | Time: 1.1s\n",
            "💾 New best model saved! Val Loss: 0.6115\n"
          ]
        },
        {
          "output_type": "stream",
          "name": "stderr",
          "text": []
        },
        {
          "output_type": "stream",
          "name": "stdout",
          "text": [
            "Epoch   9/50 | Train Loss: 0.5955 | Val Loss: 0.5789 | LR: 5.49e-04 | Time: 1.1s\n",
            "💾 New best model saved! Val Loss: 0.5789\n"
          ]
        },
        {
          "output_type": "stream",
          "name": "stderr",
          "text": []
        },
        {
          "output_type": "stream",
          "name": "stdout",
          "text": [
            "Epoch  10/50 | Train Loss: 0.5755 | Val Loss: 0.5696 | LR: 3.09e-04 | Time: 1.1s\n",
            "💾 New best model saved! Val Loss: 0.5696\n"
          ]
        },
        {
          "output_type": "stream",
          "name": "stderr",
          "text": []
        },
        {
          "output_type": "stream",
          "name": "stdout",
          "text": [
            "Epoch  11/50 | Train Loss: 0.5664 | Val Loss: 0.5648 | LR: 1.14e-04 | Time: 1.1s\n",
            "💾 New best model saved! Val Loss: 0.5648\n"
          ]
        },
        {
          "output_type": "stream",
          "name": "stderr",
          "text": []
        },
        {
          "output_type": "stream",
          "name": "stdout",
          "text": [
            "Epoch  12/50 | Train Loss: 0.5632 | Val Loss: 0.5628 | LR: 1.06e-05 | Time: 1.1s\n",
            "💾 New best model saved! Val Loss: 0.5628\n"
          ]
        },
        {
          "output_type": "stream",
          "name": "stderr",
          "text": []
        },
        {
          "output_type": "stream",
          "name": "stdout",
          "text": [
            "Epoch  13/50 | Train Loss: 0.5589 | Val Loss: 0.5502 | LR: 9.95e-04 | Time: 1.1s\n",
            "💾 New best model saved! Val Loss: 0.5502\n"
          ]
        },
        {
          "output_type": "stream",
          "name": "stderr",
          "text": []
        },
        {
          "output_type": "stream",
          "name": "stdout",
          "text": [
            "Epoch  14/50 | Train Loss: 0.5421 | Val Loss: 0.5351 | LR: 9.62e-04 | Time: 1.1s\n",
            "💾 New best model saved! Val Loss: 0.5351\n"
          ]
        },
        {
          "output_type": "stream",
          "name": "stderr",
          "text": []
        },
        {
          "output_type": "stream",
          "name": "stdout",
          "text": [
            "Epoch  15/50 | Train Loss: 0.5306 | Val Loss: 0.5263 | LR: 9.02e-04 | Time: 1.1s\n",
            "💾 New best model saved! Val Loss: 0.5263\n"
          ]
        },
        {
          "output_type": "stream",
          "name": "stderr",
          "text": []
        },
        {
          "output_type": "stream",
          "name": "stdout",
          "text": [
            "Epoch  16/50 | Train Loss: 0.5238 | Val Loss: 0.5212 | LR: 8.17e-04 | Time: 1.1s\n",
            "💾 New best model saved! Val Loss: 0.5212\n"
          ]
        },
        {
          "output_type": "stream",
          "name": "stderr",
          "text": []
        },
        {
          "output_type": "stream",
          "name": "stdout",
          "text": [
            "Epoch  17/50 | Train Loss: 0.5195 | Val Loss: 0.5176 | LR: 7.14e-04 | Time: 1.1s\n",
            "💾 New best model saved! Val Loss: 0.5176\n"
          ]
        },
        {
          "output_type": "stream",
          "name": "stderr",
          "text": []
        },
        {
          "output_type": "stream",
          "name": "stdout",
          "text": [
            "Epoch  18/50 | Train Loss: 0.5168 | Val Loss: 0.5155 | LR: 5.98e-04 | Time: 1.1s\n",
            "💾 New best model saved! Val Loss: 0.5155\n"
          ]
        },
        {
          "output_type": "stream",
          "name": "stderr",
          "text": []
        },
        {
          "output_type": "stream",
          "name": "stdout",
          "text": [
            "Epoch  19/50 | Train Loss: 0.5150 | Val Loss: 0.5142 | LR: 4.76e-04 | Time: 1.1s\n",
            "💾 New best model saved! Val Loss: 0.5142\n"
          ]
        },
        {
          "output_type": "stream",
          "name": "stderr",
          "text": []
        },
        {
          "output_type": "stream",
          "name": "stdout",
          "text": [
            "Epoch  20/50 | Train Loss: 0.5138 | Val Loss: 0.5132 | LR: 3.56e-04 | Time: 1.1s\n",
            "💾 New best model saved! Val Loss: 0.5132\n"
          ]
        },
        {
          "output_type": "stream",
          "name": "stderr",
          "text": []
        },
        {
          "output_type": "stream",
          "name": "stdout",
          "text": [
            "Epoch  21/50 | Train Loss: 0.5130 | Val Loss: 0.5125 | LR: 2.44e-04 | Time: 1.1s\n",
            "💾 New best model saved! Val Loss: 0.5125\n"
          ]
        },
        {
          "output_type": "stream",
          "name": "stderr",
          "text": []
        },
        {
          "output_type": "stream",
          "name": "stdout",
          "text": [
            "Epoch  22/50 | Train Loss: 0.5125 | Val Loss: 0.5120 | LR: 1.47e-04 | Time: 1.1s\n",
            "💾 New best model saved! Val Loss: 0.5120\n"
          ]
        },
        {
          "output_type": "stream",
          "name": "stderr",
          "text": []
        },
        {
          "output_type": "stream",
          "name": "stdout",
          "text": [
            "Epoch  23/50 | Train Loss: 0.5122 | Val Loss: 0.5119 | LR: 7.21e-05 | Time: 1.1s\n",
            "💾 New best model saved! Val Loss: 0.5119\n"
          ]
        },
        {
          "output_type": "stream",
          "name": "stderr",
          "text": []
        },
        {
          "output_type": "stream",
          "name": "stdout",
          "text": [
            "Epoch  24/50 | Train Loss: 0.5120 | Val Loss: 0.5118 | LR: 2.25e-05 | Time: 1.1s\n",
            "💾 New best model saved! Val Loss: 0.5118\n"
          ]
        },
        {
          "output_type": "stream",
          "name": "stderr",
          "text": []
        },
        {
          "output_type": "stream",
          "name": "stdout",
          "text": [
            "Epoch  25/50 | Train Loss: 0.5120 | Val Loss: 0.5118 | LR: 1.60e-06 | Time: 1.1s\n",
            "💾 New best model saved! Val Loss: 0.5118\n"
          ]
        },
        {
          "output_type": "stream",
          "name": "stderr",
          "text": []
        },
        {
          "output_type": "stream",
          "name": "stdout",
          "text": [
            "Epoch  26/50 | Train Loss: 0.5114 | Val Loss: 0.5103 | LR: 9.98e-04 | Time: 1.1s\n",
            "💾 New best model saved! Val Loss: 0.5103\n"
          ]
        },
        {
          "output_type": "stream",
          "name": "stderr",
          "text": []
        },
        {
          "output_type": "stream",
          "name": "stdout",
          "text": [
            "Epoch  27/50 | Train Loss: 0.5099 | Val Loss: 0.5087 | LR: 9.88e-04 | Time: 1.1s\n",
            "💾 New best model saved! Val Loss: 0.5087\n"
          ]
        },
        {
          "output_type": "stream",
          "name": "stderr",
          "text": []
        },
        {
          "output_type": "stream",
          "name": "stdout",
          "text": [
            "Epoch  28/50 | Train Loss: 0.5087 | Val Loss: 0.5079 | LR: 9.71e-04 | Time: 1.1s\n",
            "💾 New best model saved! Val Loss: 0.5079\n"
          ]
        },
        {
          "output_type": "stream",
          "name": "stderr",
          "text": []
        },
        {
          "output_type": "stream",
          "name": "stdout",
          "text": [
            "Epoch  29/50 | Train Loss: 0.5078 | Val Loss: 0.5072 | LR: 9.47e-04 | Time: 1.1s\n",
            "💾 New best model saved! Val Loss: 0.5072\n"
          ]
        },
        {
          "output_type": "stream",
          "name": "stderr",
          "text": []
        },
        {
          "output_type": "stream",
          "name": "stdout",
          "text": [
            "Epoch  30/50 | Train Loss: 0.5072 | Val Loss: 0.5065 | LR: 9.16e-04 | Time: 1.1s\n",
            "💾 New best model saved! Val Loss: 0.5065\n"
          ]
        },
        {
          "output_type": "stream",
          "name": "stderr",
          "text": []
        },
        {
          "output_type": "stream",
          "name": "stdout",
          "text": [
            "Epoch  31/50 | Train Loss: 0.5066 | Val Loss: 0.5060 | LR: 8.79e-04 | Time: 1.1s\n",
            "💾 New best model saved! Val Loss: 0.5060\n"
          ]
        },
        {
          "output_type": "stream",
          "name": "stderr",
          "text": []
        },
        {
          "output_type": "stream",
          "name": "stdout",
          "text": [
            "Epoch  32/50 | Train Loss: 0.5062 | Val Loss: 0.5057 | LR: 8.36e-04 | Time: 1.1s\n",
            "💾 New best model saved! Val Loss: 0.5057\n"
          ]
        },
        {
          "output_type": "stream",
          "name": "stderr",
          "text": []
        },
        {
          "output_type": "stream",
          "name": "stdout",
          "text": [
            "Epoch  33/50 | Train Loss: 0.5059 | Val Loss: 0.5052 | LR: 7.88e-04 | Time: 1.1s\n",
            "💾 New best model saved! Val Loss: 0.5052\n"
          ]
        },
        {
          "output_type": "stream",
          "name": "stderr",
          "text": []
        },
        {
          "output_type": "stream",
          "name": "stdout",
          "text": [
            "Epoch  34/50 | Train Loss: 0.5057 | Val Loss: 0.5053 | LR: 7.36e-04 | Time: 1.1s\n"
          ]
        },
        {
          "output_type": "stream",
          "name": "stderr",
          "text": []
        },
        {
          "output_type": "stream",
          "name": "stdout",
          "text": [
            "Epoch  35/50 | Train Loss: 0.5055 | Val Loss: 0.5050 | LR: 6.80e-04 | Time: 1.1s\n",
            "💾 New best model saved! Val Loss: 0.5050\n"
          ]
        },
        {
          "output_type": "stream",
          "name": "stderr",
          "text": []
        },
        {
          "output_type": "stream",
          "name": "stdout",
          "text": [
            "Epoch  36/50 | Train Loss: 0.5053 | Val Loss: 0.5047 | LR: 6.22e-04 | Time: 1.1s\n",
            "💾 New best model saved! Val Loss: 0.5047\n"
          ]
        },
        {
          "output_type": "stream",
          "name": "stderr",
          "text": []
        },
        {
          "output_type": "stream",
          "name": "stdout",
          "text": [
            "Epoch  37/50 | Train Loss: 0.5052 | Val Loss: 0.5047 | LR: 5.62e-04 | Time: 1.1s\n"
          ]
        },
        {
          "output_type": "stream",
          "name": "stderr",
          "text": []
        },
        {
          "output_type": "stream",
          "name": "stdout",
          "text": [
            "Epoch  38/50 | Train Loss: 0.5051 | Val Loss: 0.5046 | LR: 5.01e-04 | Time: 1.1s\n",
            "💾 New best model saved! Val Loss: 0.5046\n"
          ]
        },
        {
          "output_type": "stream",
          "name": "stderr",
          "text": []
        },
        {
          "output_type": "stream",
          "name": "stdout",
          "text": [
            "Epoch  39/50 | Train Loss: 0.5050 | Val Loss: 0.5045 | LR: 4.39e-04 | Time: 1.1s\n",
            "💾 New best model saved! Val Loss: 0.5045\n"
          ]
        },
        {
          "output_type": "stream",
          "name": "stderr",
          "text": []
        },
        {
          "output_type": "stream",
          "name": "stdout",
          "text": [
            "Epoch  40/50 | Train Loss: 0.5049 | Val Loss: 0.5045 | LR: 3.79e-04 | Time: 1.1s\n",
            "💾 New best model saved! Val Loss: 0.5045\n"
          ]
        },
        {
          "output_type": "stream",
          "name": "stderr",
          "text": []
        },
        {
          "output_type": "stream",
          "name": "stdout",
          "text": [
            "Epoch  41/50 | Train Loss: 0.5049 | Val Loss: 0.5044 | LR: 3.21e-04 | Time: 1.1s\n",
            "💾 New best model saved! Val Loss: 0.5044\n"
          ]
        },
        {
          "output_type": "stream",
          "name": "stderr",
          "text": []
        },
        {
          "output_type": "stream",
          "name": "stdout",
          "text": [
            "Epoch  42/50 | Train Loss: 0.5048 | Val Loss: 0.5043 | LR: 2.65e-04 | Time: 1.1s\n",
            "💾 New best model saved! Val Loss: 0.5043\n"
          ]
        },
        {
          "output_type": "stream",
          "name": "stderr",
          "text": []
        },
        {
          "output_type": "stream",
          "name": "stdout",
          "text": [
            "Epoch  43/50 | Train Loss: 0.5048 | Val Loss: 0.5043 | LR: 2.13e-04 | Time: 1.1s\n",
            "💾 New best model saved! Val Loss: 0.5043\n"
          ]
        },
        {
          "output_type": "stream",
          "name": "stderr",
          "text": []
        },
        {
          "output_type": "stream",
          "name": "stdout",
          "text": [
            "Epoch  44/50 | Train Loss: 0.5047 | Val Loss: 0.5043 | LR: 1.65e-04 | Time: 1.1s\n",
            "💾 New best model saved! Val Loss: 0.5043\n"
          ]
        },
        {
          "output_type": "stream",
          "name": "stderr",
          "text": []
        },
        {
          "output_type": "stream",
          "name": "stdout",
          "text": [
            "Epoch  45/50 | Train Loss: 0.5047 | Val Loss: 0.5042 | LR: 1.22e-04 | Time: 1.1s\n",
            "💾 New best model saved! Val Loss: 0.5042\n"
          ]
        },
        {
          "output_type": "stream",
          "name": "stderr",
          "text": []
        },
        {
          "output_type": "stream",
          "name": "stdout",
          "text": [
            "Epoch  46/50 | Train Loss: 0.5047 | Val Loss: 0.5042 | LR: 8.52e-05 | Time: 1.1s\n",
            "💾 New best model saved! Val Loss: 0.5042\n"
          ]
        },
        {
          "output_type": "stream",
          "name": "stderr",
          "text": []
        },
        {
          "output_type": "stream",
          "name": "stdout",
          "text": [
            "Epoch  47/50 | Train Loss: 0.5047 | Val Loss: 0.5042 | LR: 5.43e-05 | Time: 1.1s\n",
            "💾 New best model saved! Val Loss: 0.5042\n"
          ]
        },
        {
          "output_type": "stream",
          "name": "stderr",
          "text": []
        },
        {
          "output_type": "stream",
          "name": "stdout",
          "text": [
            "Epoch  48/50 | Train Loss: 0.5047 | Val Loss: 0.5042 | LR: 3.02e-05 | Time: 1.1s\n",
            "💾 New best model saved! Val Loss: 0.5042\n"
          ]
        },
        {
          "output_type": "stream",
          "name": "stderr",
          "text": []
        },
        {
          "output_type": "stream",
          "name": "stdout",
          "text": [
            "Epoch  49/50 | Train Loss: 0.5047 | Val Loss: 0.5042 | LR: 1.31e-05 | Time: 1.1s\n",
            "💾 New best model saved! Val Loss: 0.5042\n"
          ]
        },
        {
          "output_type": "stream",
          "name": "stderr",
          "text": []
        },
        {
          "output_type": "stream",
          "name": "stdout",
          "text": [
            "Epoch  50/50 | Train Loss: 0.5047 | Val Loss: 0.5042 | LR: 3.41e-06 | Time: 1.1s\n",
            "✅ Training completed in 53.5 seconds\n",
            "\n",
            "📈 Plotting training curves...\n"
          ]
        },
        {
          "output_type": "display_data",
          "data": {
            "text/plain": [
              "<Figure size 1500x500 with 2 Axes>"
            ],
            "image/png": "[encoded data removed]"
          },
          "metadata": {}
        },
        {
          "output_type": "stream",
          "name": "stdout",
          "text": [
            "📈 Training curves saved to mathematical_training_curves.png\n",
            "💾 Final model saved as 'final_mathematical_ffn_v2.pt'\n",
            "\n",
            "🧪 Testing model...\n",
            "Test loss: 0.5055\n",
            "\n",
            "🎉 Mathematical FFN-v2 Training Complete!\n",
            "📁 Files created:\n",
            "   - best_mathematical_ffn_v2.pt (best model)\n",
            "   - final_mathematical_ffn_v2.pt (final model)\n",
            "   - mathematical_training_curves.png (training curves)\n",
            "\n",
            "📥 To download results, run:\n",
            "from google.colab import files\n",
            "files.download('best_mathematical_ffn_v2.pt')\n",
            "files.download('mathematical_training_curves.png')\n"
          ]
        }
      ]
    }
  ]
}